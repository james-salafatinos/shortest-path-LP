{
 "cells": [
  {
   "cell_type": "code",
   "execution_count": 121,
   "metadata": {},
   "outputs": [
    {
     "name": "stdout",
     "output_type": "stream",
     "text": [
      "The memory_profiler extension is already loaded. To reload it, use:\n",
      "  %reload_ext memory_profiler\n"
     ]
    }
   ],
   "source": [
    "# Time and memory tracker\n",
    "import time\n",
    "import numexpr\n",
    "import random\n",
    "import numpy as np\n",
    "import pandas as pd\n",
    "import matplotlib\n",
    "import matplotlib.pyplot as plt\n",
    "\n",
    "from functools import wraps\n",
    "from scipy.special import comb\n",
    "from memory_profiler import memory_usage, LogFile\n",
    "\n",
    "%load_ext memory_profiler\n",
    "\n",
    "# LP Shortest Path\n",
    "import networkx as nx\n",
    "from pulp import *"
   ]
  },
  {
   "cell_type": "code",
   "execution_count": 122,
   "metadata": {},
   "outputs": [],
   "source": [
    "RANDOM_SEED1 = 5 # Set the seed to make repeatable\n",
    "RANDOM_SEED2 = 6 # Set the seed to make repeatable\n",
    "NUM_RUNS = 10 # Number of sets of OD pairs to run algorithm with\n",
    "NUM_EDGES = 10000 # Number of edges to sample from wiki dataset"
   ]
  },
  {
   "cell_type": "markdown",
   "metadata": {},
   "source": [
    "## Time Tracker Decorator"
   ]
  },
  {
   "cell_type": "code",
   "execution_count": 123,
   "metadata": {},
   "outputs": [],
   "source": [
    "# Time decorator code adapted from:\n",
    "#   https://stackoverflow.com/questions/3620943/measuring-elapsed-time-with-the-time-module\n",
    "# Key changes:\n",
    "#   time.monotonic() instead of time.time()\n",
    "#   print_prof_data() function revamped to show function / calls / total / average / max in tabular format\n",
    "\n",
    "PROF_DATA = {}\n",
    "DATA_CATEGORIES = {}\n",
    "\n",
    "def profile(tag):\n",
    "\n",
    "    def profile_wrapper(fn):\n",
    "\n",
    "        @wraps(fn)\n",
    "        def with_profiling(*args, **kwargs):\n",
    "            start_time = time.monotonic()\n",
    "        \n",
    "            ret = fn(*args, **kwargs)\n",
    "        \n",
    "            elapsed_time = time.monotonic() - start_time\n",
    "\n",
    "            if fn.__name__ not in PROF_DATA:\n",
    "                PROF_DATA[fn.__name__] = [0, []]\n",
    "            PROF_DATA[fn.__name__][0] += 1\n",
    "            PROF_DATA[fn.__name__][1].append(elapsed_time)\n",
    "            if fn.__name__ not in DATA_CATEGORIES:\n",
    "                DATA_CATEGORIES[fn.__name__] = tag\n",
    "\n",
    "            return ret\n",
    "\n",
    "        return with_profiling\n",
    "\n",
    "    return profile_wrapper\n",
    "\n",
    "def print_prof_data():\n",
    "    print(\"\\n{:>25}\\t{:>8}\\t{:>12}\\t{:>12}\\t{:>12}\\t{:>12}\".format(\"Function\", \"Calls\", \"Total\", \"Average\", \"Std dev\", \"Maximum\"))\n",
    "    print(108 * \"_\" + \"\\n\")\n",
    "    total_calls = 0\n",
    "    grand_time = 0\n",
    "    for fname, data in PROF_DATA.items():\n",
    "        total_calls += data[0]\n",
    "        total_time = sum(data[1])\n",
    "        grand_time += total_time\n",
    "        avg_time = np.mean(data[1])\n",
    "        std_time = np.std(data[1])\n",
    "        max_time = max(data[1])\n",
    "        print(\"{:>25s}\\t{:8d}\\t{:12.6f}\\t{:12.6f}\\t{:12.6f}\\t{:12.6f}\".format(fname + \" — \" + DATA_CATEGORIES[fname], data[0], total_time, avg_time, std_time, max_time))\n",
    "    print(108 * \"_\")\n",
    "    print(\"\\n{:>25}\\t{:8d}\\t{:>12.6f}\\t{:12.6f}\".format(\"ALL FUNCTIONS COMBINED\", total_calls, grand_time, grand_time / total_calls))\n",
    "\n",
    "def clear_prof_data():\n",
    "    global PROF_DATA\n",
    "    PROF_DATA = {}\n",
    "\n",
    "def clear_data_categories():\n",
    "    global DATA_CATEGORIES\n",
    "    DATA_CATEGORIES = {}\n",
    "    \n",
    "def organize_result(PROF_DATA, DATA_CATEGORIES):\n",
    "    # We can also export PROF_DATA to a DataFrame for nicer display and possibly also for future use\n",
    "    # Display the refined dataframe so that …\n",
    "    #   1. It suppresses the individual times, without deleting that information\n",
    "    #   2. It is sorted in descending order of total time taken\n",
    "\n",
    "    profile_frame = pd.DataFrame(PROF_DATA)\n",
    "    profile_frame = profile_frame.transpose()\n",
    "    profile_frame.columns = [\"calls\", \"times\"]\n",
    "    profile_frame[\"total\"] = profile_frame.times.map(sum)\n",
    "    profile_frame[\"average\"] = profile_frame.times.map(np.mean)\n",
    "    profile_frame[\"std_dev\"] = profile_frame.times.map(np.std)\n",
    "    profile_frame[\"maximum\"] = profile_frame.times.map(max)\n",
    "    profile_frame[\"minimum\"] = profile_frame.times.map(min)\n",
    "    for function in profile_frame.index:\n",
    "        profile_frame.loc[function, \"category\"] = DATA_CATEGORIES[function]\n",
    "\n",
    "    print(\"\\t*** Timekeeping summary of profiled functions ***\\n\")\n",
    "    print(\"{:d} profiled functions took {:d} calls for {:.6f} total seconds, an average of {:.6f}.\".format(len(profile_frame), profile_frame.calls.sum(), profile_frame.total.sum(), profile_frame.total.mean()))\n",
    "\n",
    "    results = profile_frame.loc[:, [\"category\", \"calls\", \"total\", \"average\", \"std_dev\", \"maximum\", \"minimum\"]].sort_values(by = \"total\", ascending = False)\n",
    "    \n",
    "    return profile_frame, results"
   ]
  },
  {
   "cell_type": "markdown",
   "metadata": {},
   "source": [
    "### Test and POC of the Time Tracker Decorator"
   ]
  },
  {
   "cell_type": "code",
   "execution_count": 124,
   "metadata": {},
   "outputs": [
    {
     "name": "stdout",
     "output_type": "stream",
     "text": [
      "1 \t\n",
      "\n",
      "1 \t1 \t\n",
      "\n",
      "1 \t2 \t1 \t\n",
      "\n",
      "1 \t3 \t3 \t1 \t\n",
      "\n",
      "1 \t4 \t6 \t4 \t1 \t\n",
      "\n",
      "1 \t5 \t10 \t10 \t5 \t1 \t\n",
      "\n",
      "1 \t6 \t15 \t20 \t15 \t6 \t1 \t\n",
      "\n",
      "1 \t7 \t21 \t35 \t35 \t21 \t7 \t1 \t\n",
      "\n",
      "1 \t8 \t28 \t56 \t70 \t56 \t28 \t8 \t1 \t\n",
      "\n",
      "1 \t9 \t36 \t84 \t126 \t126 \t84 \t36 \t9 \t1 \t\n",
      "\n",
      "1 \t10 \t45 \t120 \t210 \t252 \t210 \t120 \t45 \t10 \t1 \t\n",
      "\n",
      "1 \t11 \t55 \t165 \t330 \t462 \t462 \t330 \t165 \t55 \t11 \t1 \t\n",
      "\n",
      "1 \t12 \t66 \t220 \t495 \t792 \t924 \t792 \t495 \t220 \t66 \t12 \t1 \t\n",
      "\n",
      "\n",
      "                 Function\t   Calls\t       Total\t     Average\t     Std dev\t     Maximum\n",
      "____________________________________________________________________________________________________________\n",
      "\n",
      "        factorial — numpy\t    1483\t    0.009506\t    0.000006\t    0.000005\t    0.000030\n",
      "     permutations — numpy\t      91\t    0.002139\t    0.000024\t    0.000010\t    0.000052\n",
      "     combinations — numpy\t      91\t    0.003001\t    0.000033\t    0.000011\t    0.000062\n",
      "____________________________________________________________________________________________________________\n",
      "\n",
      "   ALL FUNCTIONS COMBINED\t    1665\t    0.014646\t    0.000009\n"
     ]
    }
   ],
   "source": [
    "# Test the time decorator function — Set up\n",
    "\n",
    "@profile(\"numpy\")\n",
    "def factorial(n):\n",
    "    \"\"\"Assumes n is an integer > 0\n",
    "        Returns n!\"\"\"\n",
    "    if n == 0:\n",
    "        return 1\n",
    "    elif n == 1:\n",
    "        return n\n",
    "    else:\n",
    "        return n * factorial(n - 1)\n",
    "\n",
    "@profile(\"numpy\")\n",
    "def permutations(n, r):\n",
    "    \"\"\" Assumes n, k are integers > 0\n",
    "        Returns nPr \"\"\"\n",
    "    nPr = factorial(n)/factorial(n - r)\n",
    "    nPr = int(round(nPr))\n",
    "    return nPr\n",
    "\n",
    "@profile(\"numpy\")\n",
    "def combinations(n, r):\n",
    "    \"\"\" Assumes n, k are integers > 0\n",
    "        Returns nCr \"\"\"\n",
    "    nCr = permutations(n, r)/factorial(r)\n",
    "    nCr = int(round(nCr))\n",
    "    return nCr\n",
    "\n",
    "# Test the time decorator function — Write a tiny Fibonnaci triangle\n",
    "\n",
    "for i in range(0, 13):\n",
    "    for j in range(i + 1):\n",
    "        print(combinations(i, j), \"\\t\", end = \"\")\n",
    "        # print(\"C({:d}, {:d}) = {:d}\\t\".format(i, j, combinations(i, j)), end = \"\")\n",
    "    print(\"\\n\")\n",
    "\n",
    "print_prof_data()"
   ]
  },
  {
   "cell_type": "code",
   "execution_count": 125,
   "metadata": {
    "scrolled": true
   },
   "outputs": [
    {
     "name": "stdout",
     "output_type": "stream",
     "text": [
      "1 \t\n",
      "\n",
      "1 \t1 \t\n",
      "\n",
      "1 \t2 \t1 \t\n",
      "\n",
      "1 \t3 \t3 \t1 \t\n",
      "\n",
      "1 \t4 \t6 \t4 \t1 \t\n",
      "\n",
      "1 \t5 \t10 \t10 \t5 \t1 \t\n",
      "\n",
      "1 \t6 \t15 \t20 \t15 \t6 \t1 \t\n",
      "\n",
      "1 \t7 \t21 \t35 \t35 \t21 \t7 \t1 \t\n",
      "\n",
      "1 \t8 \t28 \t56 \t70 \t56 \t28 \t8 \t1 \t\n",
      "\n",
      "1 \t9 \t36 \t84 \t126 \t126 \t84 \t36 \t9 \t1 \t\n",
      "\n",
      "1 \t10 \t45 \t120 \t210 \t252 \t210 \t120 \t45 \t10 \t1 \t\n",
      "\n",
      "1 \t11 \t55 \t165 \t330 \t462 \t462 \t330 \t165 \t55 \t11 \t1 \t\n",
      "\n",
      "1 \t12 \t66 \t220 \t495 \t792 \t924 \t792 \t495 \t220 \t66 \t12 \t1 \t\n",
      "\n",
      "\n",
      "                 Function\t   Calls\t       Total\t     Average\t     Std dev\t     Maximum\n",
      "____________________________________________________________________________________________________________\n",
      "\n",
      "        factorial — numpy\t    1483\t    0.009506\t    0.000006\t    0.000005\t    0.000030\n",
      "     permutations — numpy\t      91\t    0.002139\t    0.000024\t    0.000010\t    0.000052\n",
      "     combinations — numpy\t      91\t    0.003001\t    0.000033\t    0.000011\t    0.000062\n",
      "       scipy_comb — scipy\t      91\t    0.000104\t    0.000001\t    0.000001\t    0.000006\n",
      "____________________________________________________________________________________________________________\n",
      "\n",
      "   ALL FUNCTIONS COMBINED\t    1756\t    0.014750\t    0.000008\n"
     ]
    }
   ],
   "source": [
    "# Test the time decorator function — Set up\n",
    "\n",
    "@profile(\"scipy\")\n",
    "def scipy_comb(n, r):\n",
    "    \"\"\" Assumes n, k are integers > 0\n",
    "        Returns nCr \"\"\"\n",
    "    nCr = comb(n, r, exact = True)\n",
    "    # nCr = int(round(nCr))\n",
    "    return nCr\n",
    "\n",
    "# Test the time decorator function — Write a tiny Fibonnaci triangle\n",
    "\n",
    "for i in range(0, 13):\n",
    "    for j in range(i + 1):\n",
    "        print(scipy_comb(i, j), \"\\t\", end = \"\")\n",
    "        # print(\"C({:d}, {:d}) = {:d}\\t\".format(i, j, combinations(i, j)), end = \"\")\n",
    "    print(\"\\n\")\n",
    "\n",
    "print_prof_data()"
   ]
  },
  {
   "cell_type": "code",
   "execution_count": 126,
   "metadata": {},
   "outputs": [
    {
     "name": "stdout",
     "output_type": "stream",
     "text": [
      "\t*** Timekeeping summary of profiled functions ***\n",
      "\n",
      "4 profiled functions took 1756 calls for 0.014750 total seconds, an average of 0.003687.\n"
     ]
    },
    {
     "data": {
      "text/html": [
       "<div>\n",
       "<style scoped>\n",
       "    .dataframe tbody tr th:only-of-type {\n",
       "        vertical-align: middle;\n",
       "    }\n",
       "\n",
       "    .dataframe tbody tr th {\n",
       "        vertical-align: top;\n",
       "    }\n",
       "\n",
       "    .dataframe thead th {\n",
       "        text-align: right;\n",
       "    }\n",
       "</style>\n",
       "<table border=\"1\" class=\"dataframe\">\n",
       "  <thead>\n",
       "    <tr style=\"text-align: right;\">\n",
       "      <th></th>\n",
       "      <th>category</th>\n",
       "      <th>calls</th>\n",
       "      <th>total</th>\n",
       "      <th>average</th>\n",
       "      <th>std_dev</th>\n",
       "      <th>maximum</th>\n",
       "      <th>minimum</th>\n",
       "    </tr>\n",
       "  </thead>\n",
       "  <tbody>\n",
       "    <tr>\n",
       "      <th>factorial</th>\n",
       "      <td>numpy</td>\n",
       "      <td>1483</td>\n",
       "      <td>0.009506</td>\n",
       "      <td>0.000006</td>\n",
       "      <td>5.255472e-06</td>\n",
       "      <td>0.000030</td>\n",
       "      <td>2.059969e-07</td>\n",
       "    </tr>\n",
       "    <tr>\n",
       "      <th>combinations</th>\n",
       "      <td>numpy</td>\n",
       "      <td>91</td>\n",
       "      <td>0.003001</td>\n",
       "      <td>0.000033</td>\n",
       "      <td>1.105567e-05</td>\n",
       "      <td>0.000062</td>\n",
       "      <td>1.251500e-05</td>\n",
       "    </tr>\n",
       "    <tr>\n",
       "      <th>permutations</th>\n",
       "      <td>numpy</td>\n",
       "      <td>91</td>\n",
       "      <td>0.002139</td>\n",
       "      <td>0.000024</td>\n",
       "      <td>9.686349e-06</td>\n",
       "      <td>0.000052</td>\n",
       "      <td>7.679002e-06</td>\n",
       "    </tr>\n",
       "    <tr>\n",
       "      <th>scipy_comb</th>\n",
       "      <td>scipy</td>\n",
       "      <td>91</td>\n",
       "      <td>0.000104</td>\n",
       "      <td>0.000001</td>\n",
       "      <td>7.464582e-07</td>\n",
       "      <td>0.000006</td>\n",
       "      <td>6.920018e-07</td>\n",
       "    </tr>\n",
       "  </tbody>\n",
       "</table>\n",
       "</div>"
      ],
      "text/plain": [
       "             category calls     total   average       std_dev   maximum  \\\n",
       "factorial       numpy  1483  0.009506  0.000006  5.255472e-06  0.000030   \n",
       "combinations    numpy    91  0.003001  0.000033  1.105567e-05  0.000062   \n",
       "permutations    numpy    91  0.002139  0.000024  9.686349e-06  0.000052   \n",
       "scipy_comb      scipy    91  0.000104  0.000001  7.464582e-07  0.000006   \n",
       "\n",
       "                   minimum  \n",
       "factorial     2.059969e-07  \n",
       "combinations  1.251500e-05  \n",
       "permutations  7.679002e-06  \n",
       "scipy_comb    6.920018e-07  "
      ]
     },
     "execution_count": 126,
     "metadata": {},
     "output_type": "execute_result"
    }
   ],
   "source": [
    "profile_frame, result = organize_result(PROF_DATA, DATA_CATEGORIES)\n",
    "result"
   ]
  },
  {
   "cell_type": "code",
   "execution_count": 127,
   "metadata": {},
   "outputs": [
    {
     "name": "stdout",
     "output_type": "stream",
     "text": [
      "             calls     total   average   std_dev   maximum       minimum\n",
      "factorial     1483  0.009506  0.000006  0.000005  0.000030  2.059969e-07\n",
      "combinations    91  0.003001  0.000033  0.000011  0.000062  1.251500e-05\n",
      "permutations    91  0.002139  0.000024  0.000010  0.000052  7.679002e-06\n",
      "\n",
      "\n",
      "           calls     total   average       std_dev   maximum       minimum\n",
      "scipy_comb    91  0.000104  0.000001  7.464582e-07  0.000006  6.920018e-07\n",
      "\n",
      "\n",
      "category\n",
      "numpy    0.014646\n",
      "scipy    0.000104\n",
      "Name: total, dtype: float64\n",
      "\n",
      "\n",
      "factorial       0.009506\n",
      "permutations    0.002139\n",
      "combinations    0.003001\n",
      "scipy_comb      0.000104\n",
      "Name: total, dtype: float64\n"
     ]
    },
    {
     "data": {
      "text/plain": [
       "([<matplotlib.patches.Wedge at 0x7fd11995c240>,\n",
       "  <matplotlib.patches.Wedge at 0x7fd11995c048>,\n",
       "  <matplotlib.patches.Wedge at 0x7fd11995ca58>,\n",
       "  <matplotlib.patches.Wedge at 0x7fd11995cf28>],\n",
       " [Text(-0.5041969507295252, 1.033578944674788, 'factorial'),\n",
       "  Text(-0.2368929314236217, -1.1253362782037748, 'permutations'),\n",
       "  Text(0.8916893653150345, -0.7262162734227807, 'combinations'),\n",
       "  Text(1.2996812834812566, -0.02878474193933914, 'scipy_comb')])"
      ]
     },
     "execution_count": 127,
     "metadata": {},
     "output_type": "execute_result"
    },
    {
     "data": {
      "image/png": "[encoded data removed]",
      "text/plain": [
       "<Figure size 432x288 with 1 Axes>"
      ]
     },
     "metadata": {},
     "output_type": "display_data"
    }
   ],
   "source": [
    "print(profile_frame[profile_frame.category == \"numpy\"].loc[:, [\"calls\", \"total\", \"average\", \"std_dev\", \"maximum\", \"minimum\"]].sort_values(by = \"total\", ascending = False))\n",
    "print('\\n')\n",
    "print(profile_frame[profile_frame.category == \"scipy\"].loc[:, [\"calls\", \"total\", \"average\", \"std_dev\", \"maximum\", \"minimum\"]].sort_values(by = \"total\", ascending = False))\n",
    "print('\\n')\n",
    "print(profile_frame.total.groupby(profile_frame.category).sum())\n",
    "print('\\n')\n",
    "print(profile_frame[\"total\"])\n",
    "plt.pie(profile_frame.total * 100, explode = (0.05, 0.05, 0.05, 0.2), labels = profile_frame.index)"
   ]
  },
  {
   "cell_type": "code",
   "execution_count": 128,
   "metadata": {},
   "outputs": [],
   "source": [
    "# ERROR: TypeError: Image data of dtype object cannot be converted to float\n",
    "# plt.figure(figsize = (9, 5.5))\n",
    "# plt.imshow([profile_frame.loc[\"combinations\", \"times\"], \n",
    "#             profile_frame.loc[\"permutations\", \"times\"], profile_frame.loc[\"scipy_comb\", \"times\"]], aspect = \"auto\", interpolation = \"none\", cmap = \"viridis\")\n",
    "# plt.colorbar()\n",
    "# plt.savefig(\"profile_frame_time_matrix.png\")"
   ]
  },
  {
   "cell_type": "markdown",
   "metadata": {},
   "source": [
    "# The Algorithms"
   ]
  },
  {
   "cell_type": "markdown",
   "metadata": {},
   "source": [
    "### Define common data and functions"
   ]
  },
  {
   "cell_type": "code",
   "execution_count": 129,
   "metadata": {},
   "outputs": [],
   "source": [
    "def initiate_graph(num_edges):\n",
    "    G = nx.read_gexf('./data/math_wikipedia_pages_links_dict.gexf')\n",
    "    G_2 = G.to_directed()\n",
    "\n",
    "    # Choose subset of wikipedia dataset to test algorithms\n",
    "    def random_subset_of_arcs(arcs, subset_size):\n",
    "      \"\"\"Used to take a random subset of arcs and return a sample\n",
    "      Can be used in conjunction with the below sampled_edges in a loop\"\"\"\n",
    "      num_arcs = len(arcs)\n",
    "      selections = random.sample(range(1,num_arcs), subset_size)\n",
    "      return selections\n",
    "\n",
    "    def choose_random_nodes(list_of_nodes):\n",
    "      \"\"\"Chooses 2 random nodes for testing\"\"\"\n",
    "      num_nodes = len(list_of_nodes)\n",
    "      node_a, node_b = random.sample(range(0,num_nodes),2)\n",
    "      return (node_a, node_b)\n",
    "\n",
    "    # Returns edge samples # Can be used to create a subgraph\n",
    "    sampled_edges = list(map(list(G.edges).__getitem__, random_subset_of_arcs(list(G.edges),num_edges)))\n",
    "\n",
    "    # Looks up the nodes in the sampled edges and returns that\n",
    "    sampled_nodes = list(pd.Series([node for edge in sampled_edges for node in edge]).unique())\n",
    "\n",
    "    return sampled_nodes, sampled_edges\n",
    "    \n",
    "sampled_nodes, sampled_edges = initiate_graph(NUM_EDGES)\n",
    "\n",
    "# Define nodes to test with\n",
    "random.seed(RANDOM_SEED1)\n",
    "start_nodes_keys_list = random.sample(sampled_nodes,NUM_RUNS)\n",
    "\n",
    "random.seed(RANDOM_SEED2)\n",
    "end_nodes_keys_list = random.sample(sampled_nodes,NUM_RUNS)"
   ]
  },
  {
   "cell_type": "code",
   "execution_count": 130,
   "metadata": {},
   "outputs": [],
   "source": [
    "# # Initiating new time tracker\n",
    "clear_prof_data()\n",
    "clear_data_categories()\n"
   ]
  },
  {
   "cell_type": "markdown",
   "metadata": {},
   "source": [
    "### Define general functions for LPs"
   ]
  },
  {
   "cell_type": "code",
   "execution_count": 131,
   "metadata": {},
   "outputs": [],
   "source": [
    "def create_arcs(sampled_nodes, sampled_edges, start_node_key, end_node_key): \n",
    "\n",
    "    # Creates a dictionary of the node IDs to the values for later lookup and reverse lookup\n",
    "    nodes_ = sampled_nodes\n",
    "    nodes_dict = dict(zip(range(0,len(nodes_)),nodes_)) #    {0: 'Hanover', 1: 'Gottfried_Wilhelm_Leibniz',..}\n",
    "    nodes_dict_rev = dict(zip(nodes_,range(0,len(nodes_))))# {'Hanover': 0,'Gottfried_Wilhelm_Leibniz': 1,..}\n",
    "    nodes_ = list(nodes_dict.keys())\n",
    "\n",
    "    # Define start and end node. Node A to B\n",
    "    start_node = nodes_dict_rev[start_node_key]\n",
    "    end_node = nodes_dict_rev[end_node_key]\n",
    "\n",
    "    # Create a dictionary of nodes and their net demands\n",
    "    # Iterates through each node and adds it to the node demand\n",
    "    # dictionary with a net demand of 0, then sets the supply\n",
    "    # and demand node of the network problem to -1 and 1respectively\n",
    "    net_ds_nodes_ = {} #{0: [-1, 0], 1: [0, 0], 2: [0, 0],... 8: [0,1], ... }\n",
    "    for node in nodes_:\n",
    "        net_ds_nodes_[node] = [0,0]\n",
    "    net_ds_nodes_[start_node] = [-1,0]\n",
    "    net_ds_nodes_[end_node] = [0,1]\n",
    "\n",
    "    #Creates a dictionary of arcs3\n",
    "    arcs_ = sampled_edges\n",
    "\n",
    "    #Creates a dictionary for each arc and swapping the node values for node IDs\n",
    "    arcs_dict = {}\n",
    "    \"\"\"\n",
    "    example output for arcs_dict:\n",
    "    {(0, 1): ('Hanover', 'Gottfried_Wilhelm_Leibniz'),\n",
    "     (0, 2): ('Hanover', 'Carl_Friedrich_Gauss'),\n",
    "    \"\"\"\n",
    "    for a,b in arcs_:\n",
    "        x = nodes_dict_rev[a]\n",
    "        y = nodes_dict_rev[b]\n",
    "        arcs_dict[(x,y)] = (a,b)\n",
    "\n",
    "    arcs_ = list(arcs_dict.keys())\n",
    "    return nodes_, arcs_, net_ds_nodes_, start_node, end_node\n",
    "\n",
    "def run_LP(prob_):\n",
    "    prob_.solve()    \n",
    "    return value(prob_.objective)"
   ]
  },
  {
   "cell_type": "markdown",
   "metadata": {},
   "source": [
    "## Base Linear Program"
   ]
  },
  {
   "cell_type": "markdown",
   "metadata": {},
   "source": [
    "### Define base LP"
   ]
  },
  {
   "cell_type": "code",
   "execution_count": 132,
   "metadata": {},
   "outputs": [],
   "source": [
    "def define_base_lp(nodes_, arcs_, net_ds_nodes_, start_node, end_node):\n",
    "    # Costs, lower bound, upper bound\n",
    "    arcData_ = dict(zip(arcs_, [[1,0,1]]*len(arcs_)))\n",
    "\n",
    "    # Makes it easy to reference a dictionary with subdicts\n",
    "    supply_,demand_ = splitDict(net_ds_nodes_)\n",
    "    (costs_,mins_,maxs_) = splitDict(arcData_)\n",
    "\n",
    "    # Create LP Problem    \n",
    "    prob_ = LpProblem(\"Shortest Path, Minimum Cost Problem\",LpMinimize)\n",
    "\n",
    "    # Create variables\n",
    "    LpVars_ = LpVariable.dicts(\"Route\", arcs_, 0, None, LpInteger)\n",
    "\n",
    "    # Set bounds on variables\n",
    "    for a in arcs_:\n",
    "        LpVars_[a].bounds(mins_[a], maxs_[a])\n",
    "\n",
    "    #Objective Function\n",
    "    prob_ += lpSum([LpVars_[a]  for a in arcs_]), \"Shortest Path\" \n",
    "  \n",
    "    # Constraints:\n",
    "    #For each node that is not a start node or end note, set the inflow = outflow so that the\n",
    "    #\"path\" of clicks must go THROUGH the node\n",
    "    for n in nodes_:\n",
    "        if ((n == start_node) or (n == end_node)):\n",
    "            continue\n",
    "        #Balance-of-flow constraints [ inflow - outflow  = net demand]\n",
    "        # since net demand is 0 for most of the nodes, inflow = outflow is the constraint\n",
    "        prob_ += (lpSum([LpVars_[(i,j)] for (i,j) in arcs_ if j == n]) - lpSum([LpVars_[(i,j)] for (i,j) in arcs_ if i == n])) == 0,\\\n",
    "                 \"Flow Conservation in Node {}\".format(n)\n",
    "\n",
    "    #Start and end node constraints, indicating supply node (-1) and demand node (1).\n",
    "    #AKA the sender node (-1) and the receiver node (1)\n",
    "    # prob_ += -lpSum([LpVars_[(i,j)] for (i,j) in arcs_ if i == start_node]) == -1\n",
    "    # prob_ += lpSum([LpVars_[(i,j)] for (i,j) in arcs_ if j == end_node]) == 1\n",
    "\n",
    "    prob_ += (lpSum([LpVars_[(i,j)] for (i,j) in arcs_ if j == start_node]) -\\\n",
    "             lpSum([LpVars_[(i,j)] for (i,j) in arcs_ if i == start_node])) == -1\n",
    "\n",
    "    prob_ += (lpSum([LpVars_[(i,j)] for (i,j) in arcs_ if j == end_node]) -\\\n",
    "             lpSum([LpVars_[(i,j)] for (i,j) in arcs_ if i == end_node])) == 1\n",
    "\n",
    "    #prob_.constraints\n",
    "    prob_.writeLP(r\"network_flow_wikipedia.lp\")\n",
    "    \n",
    "    return prob_"
   ]
  },
  {
   "cell_type": "markdown",
   "metadata": {},
   "source": [
    "###  Running the base LP"
   ]
  },
  {
   "cell_type": "code",
   "execution_count": 133,
   "metadata": {},
   "outputs": [],
   "source": [
    "# Function for time tracking\n",
    "@profile(\"base_lp\")\n",
    "def run_base_lp(i):\n",
    "    start_node_key = start_nodes_keys_list[i]\n",
    "    end_node_key = end_nodes_keys_list[i]\n",
    "\n",
    "    nodes, arcs, net_ds_nodes, start_node, end_node = create_arcs(sampled_nodes, sampled_edges, start_node_key, end_node_key)\n",
    "    prob = define_base_lp(nodes, arcs, net_ds_nodes, start_node, end_node)\n",
    "    clicks = run_LP(prob)\n",
    "    return clicks\n",
    "\n",
    "# Function for memory tracking\n",
    "def run_base_lp_once():\n",
    "    start_node_key = start_nodes_keys_list[0]\n",
    "    end_node_key = end_nodes_keys_list[0]\n",
    "\n",
    "    nodes, arcs, net_ds_nodes, start_node, end_node = create_arcs(sampled_nodes, sampled_edges, start_node_key, end_node_key)\n",
    "    prob = define_base_lp(nodes, arcs, net_ds_nodes, start_node, end_node)\n",
    "    clicks = run_LP(prob)\n",
    "\n",
    "# Time tracking\n",
    "for n in range(0,NUM_RUNS): \n",
    "    run_base_lp(n)\n",
    "    \n",
    "# Memory tracking\n",
    "base_lp_memory = memory_usage(run_base_lp_once)"
   ]
  },
  {
   "cell_type": "markdown",
   "metadata": {},
   "source": [
    "## Dual Linear Program"
   ]
  },
  {
   "cell_type": "markdown",
   "metadata": {},
   "source": [
    "### Define the dual LP"
   ]
  },
  {
   "cell_type": "code",
   "execution_count": 134,
   "metadata": {},
   "outputs": [],
   "source": [
    "def define_dual_lp(nodes_, arcs_, net_ds_nodes_, start_node, end_node):    \n",
    "    # Create LP Problem    \n",
    "    prob_ = LpProblem(\"Shortest Path, Minimum Cost Problem\",LpMaximize)\n",
    "    \n",
    "    # Create variables\n",
    "    LpVars_ = LpVariable.dicts(\"Nodes\", nodes_, 0, None, LpInteger)\n",
    "    \n",
    "    # Objective Function\n",
    "    prob_ += lpSum(-LpVars_[start_node] + LpVars_[end_node]), \"Shortest Path\"\n",
    "    \n",
    "    for e in arcs_:\n",
    "      u = LpVars_[e[0]]\n",
    "      v = LpVars_[e[1]]\n",
    "      prob_ += v - u  <= 1, \"Constraint at each Edge {}\".format(e)\n",
    "\n",
    "    prob_ += LpVars_[start_node] == 0\n",
    "    return prob_"
   ]
  },
  {
   "cell_type": "markdown",
   "metadata": {},
   "source": [
    "### Running the dual LP"
   ]
  },
  {
   "cell_type": "code",
   "execution_count": 135,
   "metadata": {},
   "outputs": [],
   "source": [
    "# Time tracking\n",
    "@profile(\"dual_lp\")\n",
    "def run_dual_lp(i):\n",
    "    start_node_key = start_nodes_keys_list[i]\n",
    "    end_node_key = end_nodes_keys_list[i]\n",
    "\n",
    "    nodes_dual, arcs_dual, net_ds_nodes_dual, start_node, end_node = \\\n",
    "        create_arcs(sampled_nodes, sampled_edges, start_node_key, end_node_key)\n",
    "    prob = define_dual_lp(nodes_dual, arcs_dual, net_ds_nodes_dual, start_node, end_node)\n",
    "    clicks = run_LP(prob)\n",
    "    return clicks\n",
    "\n",
    "# Memory tracking\n",
    "def run_dual_lp_once():\n",
    "    start_node_key = start_nodes_keys_list[0]\n",
    "    end_node_key = end_nodes_keys_list[0]\n",
    "\n",
    "    nodes_dual, arcs_dual, net_ds_nodes_dual, start_node, end_node = \\\n",
    "        create_arcs(sampled_nodes, sampled_edges, start_node_key, end_node_key)\n",
    "    prob = define_dual_lp(nodes_dual, arcs_dual, net_ds_nodes_dual, start_node, end_node)\n",
    "    clicks = run_LP(prob)\n",
    "\n",
    "# Time tracking    \n",
    "for n in range(0,NUM_RUNS): \n",
    "    run_dual_lp(n)\n",
    "    \n",
    "# Memory tracking\n",
    "dual_lp_memory = memory_usage(run_dual_lp_once)"
   ]
  },
  {
   "cell_type": "markdown",
   "metadata": {},
   "source": [
    "## Dijkstra's Shortest Path"
   ]
  },
  {
   "cell_type": "code",
   "execution_count": 146,
   "metadata": {},
   "outputs": [],
   "source": [
    "@profile(\"dijkstra\")\n",
    "def run_dijkstra(i): \n",
    "    start_node_key = start_nodes_keys_list[i]\n",
    "    end_node_key = end_nodes_keys_list[i]\n",
    "    shortest_path = nx.shortest_path(G,source = start_node_key, target = end_node_key, method = 'dijkstra')\n",
    "\n",
    "def run_dijkstra_once():\n",
    "    start_node_key = start_nodes_keys_list[0]\n",
    "    end_node_key = end_nodes_keys_list[0]\n",
    "    shortest_path = nx.shortest_path(G,source = start_node_key, target = end_node_key, method = 'dijkstra')\n",
    "\n",
    "# Time tracking    \n",
    "for n in range(0,NUM_RUNS): \n",
    "    run_dijkstra(n)\n",
    "    \n",
    "# Memory tracking\n",
    "dijkstra_memory = memory_usage(run_dijkstra_once)"
   ]
  },
  {
   "cell_type": "markdown",
   "metadata": {},
   "source": [
    "## A-star (A*) Shortest Path"
   ]
  },
  {
   "cell_type": "code",
   "execution_count": 148,
   "metadata": {},
   "outputs": [],
   "source": [
    "@profile(\"a*\")\n",
    "def run_astar(i): \n",
    "    start_node_key = start_nodes_keys_list[i]\n",
    "    end_node_key = end_nodes_keys_list[i]\n",
    "    shortest_path = nx.astar_path(G,source = start_node_key, target = end_node_key)\n",
    "\n",
    "def run_astar_once():\n",
    "    start_node_key = start_nodes_keys_list[0]\n",
    "    end_node_key = end_nodes_keys_list[0]\n",
    "    shortest_path = nx.astar_path(G,source = start_node_key, target = end_node_key)\n",
    "\n",
    "# Time tracking    \n",
    "for n in range(0,NUM_RUNS): \n",
    "    run_astar(n)\n",
    "    \n",
    "# Memory tracking\n",
    "astar_memory = memory_usage(run_astar_once)"
   ]
  },
  {
   "cell_type": "markdown",
   "metadata": {},
   "source": [
    "# Time Results"
   ]
  },
  {
   "cell_type": "code",
   "execution_count": 149,
   "metadata": {},
   "outputs": [
    {
     "name": "stdout",
     "output_type": "stream",
     "text": [
      "\t*** Timekeeping summary of profiled functions ***\n",
      "\n",
      "4 profiled functions took 40 calls for 78.796150 total seconds, an average of 19.699038.\n"
     ]
    },
    {
     "data": {
      "text/html": [
       "<div>\n",
       "<style scoped>\n",
       "    .dataframe tbody tr th:only-of-type {\n",
       "        vertical-align: middle;\n",
       "    }\n",
       "\n",
       "    .dataframe tbody tr th {\n",
       "        vertical-align: top;\n",
       "    }\n",
       "\n",
       "    .dataframe thead th {\n",
       "        text-align: right;\n",
       "    }\n",
       "</style>\n",
       "<table border=\"1\" class=\"dataframe\">\n",
       "  <thead>\n",
       "    <tr style=\"text-align: right;\">\n",
       "      <th></th>\n",
       "      <th>category</th>\n",
       "      <th>calls</th>\n",
       "      <th>total</th>\n",
       "      <th>average</th>\n",
       "      <th>std_dev</th>\n",
       "      <th>maximum</th>\n",
       "      <th>minimum</th>\n",
       "    </tr>\n",
       "  </thead>\n",
       "  <tbody>\n",
       "    <tr>\n",
       "      <th>run_base_lp</th>\n",
       "      <td>base_lp</td>\n",
       "      <td>10</td>\n",
       "      <td>70.001854</td>\n",
       "      <td>7.000185</td>\n",
       "      <td>0.468865</td>\n",
       "      <td>7.849920</td>\n",
       "      <td>6.021927</td>\n",
       "    </tr>\n",
       "    <tr>\n",
       "      <th>run_dual_lp</th>\n",
       "      <td>dual_lp</td>\n",
       "      <td>10</td>\n",
       "      <td>6.949832</td>\n",
       "      <td>0.694983</td>\n",
       "      <td>0.101591</td>\n",
       "      <td>0.853050</td>\n",
       "      <td>0.528448</td>\n",
       "    </tr>\n",
       "    <tr>\n",
       "      <th>run_astar</th>\n",
       "      <td>a*</td>\n",
       "      <td>10</td>\n",
       "      <td>1.837688</td>\n",
       "      <td>0.183769</td>\n",
       "      <td>0.055003</td>\n",
       "      <td>0.250242</td>\n",
       "      <td>0.064854</td>\n",
       "    </tr>\n",
       "    <tr>\n",
       "      <th>run_dijkstra</th>\n",
       "      <td>dijkstra</td>\n",
       "      <td>10</td>\n",
       "      <td>0.006776</td>\n",
       "      <td>0.000678</td>\n",
       "      <td>0.000403</td>\n",
       "      <td>0.001510</td>\n",
       "      <td>0.000170</td>\n",
       "    </tr>\n",
       "  </tbody>\n",
       "</table>\n",
       "</div>"
      ],
      "text/plain": [
       "              category calls      total   average   std_dev   maximum  \\\n",
       "run_base_lp    base_lp    10  70.001854  7.000185  0.468865  7.849920   \n",
       "run_dual_lp    dual_lp    10   6.949832  0.694983  0.101591  0.853050   \n",
       "run_astar           a*    10   1.837688  0.183769  0.055003  0.250242   \n",
       "run_dijkstra  dijkstra    10   0.006776  0.000678  0.000403  0.001510   \n",
       "\n",
       "               minimum  \n",
       "run_base_lp   6.021927  \n",
       "run_dual_lp   0.528448  \n",
       "run_astar     0.064854  \n",
       "run_dijkstra  0.000170  "
      ]
     },
     "execution_count": 149,
     "metadata": {},
     "output_type": "execute_result"
    }
   ],
   "source": [
    "profile_frame, result = organize_result(PROF_DATA, DATA_CATEGORIES)\n",
    "result"
   ]
  },
  {
   "cell_type": "markdown",
   "metadata": {},
   "source": [
    "# Memory Results"
   ]
  },
  {
   "cell_type": "code",
   "execution_count": 150,
   "metadata": {},
   "outputs": [
    {
     "name": "stdout",
     "output_type": "stream",
     "text": [
      "  Algorithm  Peak Memory Usage  Avg Memory Usage\n",
      "0   Base LP         623.800781        623.800736\n",
      "1   Dual LP         623.582031        623.582031\n",
      "2  Dijkstra         623.585938        623.585938\n",
      "3        A*         623.589844        623.589844\n"
     ]
    }
   ],
   "source": [
    "memory_df = pd.DataFrame()\n",
    "memory_df[\"Algorithm\"] = [\"Base LP\", \"Dual LP\", \"Dijkstra\", \"A*\"]\n",
    "memory_df[\"Peak Memory Usage\"] = [max(base_lp_memory), max(dual_lp_memory), max(dijkstra_memory), max(astar_memory)]\n",
    "memory_df[\"Avg Memory Usage\"] = [np.mean(base_lp_memory), np.mean(dual_lp_memory), np.mean(dijkstra_memory), np.mean(astar_memory)]\n",
    "print(memory_df)"
   ]
  },
  {
   "cell_type": "code",
   "execution_count": 144,
   "metadata": {},
   "outputs": [],
   "source": [
    "# plt.grid()\n",
    "# plt.title(\"Comparing two functions and their memory usage\")\n",
    "# plt.plot(base_lp_memory - np.min(base_lp_memory), color = \"blue\", label = \"Lambert W\")\n",
    "# # plt.plot(pigpen - np.min(pigpen), color = \"red\", label = \"Memory hog\")\n",
    "# # plt.legend(loc = \"upper right\")\n",
    "# # plt.savefig(\"lambert_versus_hog.png\")"
   ]
  }
 ],
 "metadata": {
  "kernelspec": {
   "display_name": "Python 3",
   "language": "python",
   "name": "python3"
  },
  "language_info": {
   "codemirror_mode": {
    "name": "ipython",
    "version": 3
   },
   "file_extension": ".py",
   "mimetype": "text/x-python",
   "name": "python",
   "nbconvert_exporter": "python",
   "pygments_lexer": "ipython3",
   "version": "3.7.0"
  }
 },
 "nbformat": 4,
 "nbformat_minor": 2
}
